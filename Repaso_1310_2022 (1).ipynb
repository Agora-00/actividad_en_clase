{
  "nbformat": 4,
  "nbformat_minor": 0,
  "metadata": {
    "colab": {
      "name": "Repaso_1310:2022.ipynb",
      "provenance": [],
      "collapsed_sections": []
    },
    "kernelspec": {
      "name": "python3",
      "display_name": "Python 3"
    },
    "language_info": {
      "name": "python"
    }
  },
  "cells": [
    {
      "cell_type": "markdown",
      "metadata": {
        "id": "fcu3aMxgwovq"
      },
      "source": [
        "La POO es un paradigma no soportado originalmente por Python, Python maneja el paradigma Imperativo.\n",
        "\n",
        "Pyhton simula la POO con la declaracion de clases y hacinedo referencia a un objeto de forma circular. self en python es equivalente a this de java\n",
        "\n",
        "Incluyeron la palabra class\n",
        "forma uno de declaracion de una clase\n",
        "class <Nombre de la clase:\n",
        "      <definicion de la clase>\n",
        "\n",
        "forma 2\n",
        "class <nombre de la clase> (<super clase>):\n",
        "       <definicion del cuerpo de la clase>\n",
        "\n",
        "El constructor se define simepre con el metodo __init__()\n",
        "(DOBLE GUION BAJO ANTES Y DESPUES DE init)\n",
        "\n",
        "La adeclaracion de atributos se realiza por medio de el propio constructor , es decir dentro del contructor se declaran los atributos de clase.\n",
        "\n",
        "Para hacer encapsulamiento de metodo o atributos se debe poner __ (DOBLE GUION BAJO ) previo a la delcaracion del atributo o metodo. "
      ]
    },
    {
      "cell_type": "code",
      "metadata": {
        "id": "jrGyaK8mw0X7"
      },
      "source": [
        "class Persona:\n",
        "    def __init__(self, n , e, est):\n",
        "        #iniciando valores\n",
        "        self.__nombre = n\n",
        "        self.__edad = e\n",
        "        self.__estatura = est\n",
        "    def to_string( self ):\n",
        "        return \"Nombre: \" + self.__nombre + \"Edad: \" + str(self.__edad) + \"Estatura: \" + str(self.__estatura)\n",
        "\n",
        "    def set_estatura(self, nueva_est):\n",
        "        if nueva_est > 0.10 and nueva_est < 2.5 :\n",
        "            self.__estatura = nueva_est\n",
        "        else:\n",
        "            print(\"Esta estatura no es posible\")\n",
        "    def get_estatura( self):\n",
        "        return self.__estatura"
      ],
      "execution_count": 4,
      "outputs": []
    },
    {
      "cell_type": "code",
      "metadata": {
        "colab": {
          "base_uri": "https://localhost:8080/"
        },
        "id": "-gGrokyWw9Ih",
        "outputId": "235a1724-e07d-41b0-de01-9184dcb888cb"
      },
      "source": [
        "per = Persona(\"Jose\", 19, 1.7)\n",
        "print(per.to_string())\n",
        "\n",
        "#Encapsulamiento\n",
        "\n",
        "per.nombre = \"Pedro\" #Esto no se recomienda en poo, para evitar romper la integridad del codigo y por seguridad \n",
        "print(per.to_string())\n",
        "\n",
        "\n",
        "per.set_estatura(1.9)\n",
        "print(per.to_string())\n",
        "\n",
        "print(\"Estatura:\" , end=\"\")\n",
        "#print( per.__estatura ) , asi no se hace \n",
        "print( per.get_estatura())"
      ],
      "execution_count": 9,
      "outputs": [
        {
          "output_type": "stream",
          "name": "stdout",
          "text": [
            "Nombre: JoseEdad: 19Estatura: 1.7\n",
            "Nombre: JoseEdad: 19Estatura: 1.7\n",
            "Nombre: JoseEdad: 19Estatura: 1.9\n",
            "Estatura:1.9\n"
          ]
        }
      ]
    },
    {
      "cell_type": "code",
      "metadata": {
        "id": "_BpGsBVPxLGM"
      },
      "source": [
        "#Herencia\n",
        "class Estudiante( Persona ):\n",
        "    def __init__( self , nc, nombre, edad , est):\n",
        "        self.__num_cta = nc \n",
        "        super().__init__(nombre, edad, est)\n",
        "\n",
        "    def to_string(self ):\n",
        "        return super().to_string() + \"- \" + self.__num_cta "
      ],
      "execution_count": 7,
      "outputs": []
    },
    {
      "cell_type": "code",
      "metadata": {
        "colab": {
          "base_uri": "https://localhost:8080/"
        },
        "id": "85yOivFgxeh7",
        "outputId": "ae6cf720-5d28-46e5-da34-bbeb393a0686"
      },
      "source": [
        "est = Estudiante( \"212020202\", \"José\", 18 ,1.7 )\n",
        "print( est.to_string() )"
      ],
      "execution_count": 8,
      "outputs": [
        {
          "output_type": "stream",
          "name": "stdout",
          "text": [
            "Nombre: JoséEdad: 18Estatura: 1.7- 212020202\n"
          ]
        }
      ]
    }
  ]
}